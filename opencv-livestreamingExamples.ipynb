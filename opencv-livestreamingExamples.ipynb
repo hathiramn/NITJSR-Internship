{
 "cells": [
  {
   "cell_type": "code",
   "execution_count": 8,
   "id": "81a0a04c",
   "metadata": {},
   "outputs": [
    {
     "name": "stdout",
     "output_type": "stream",
     "text": [
      "Overwriting demo.py\n"
     ]
    }
   ],
   "source": [
    "%%writefile demo.py\n",
    "\n",
    "import cv2\n",
    "cv2.setUseOpenVX(False)\n",
    "cv2.setUseOptimized(False)\n",
    "# Create a VideoCapture object with the correct camera index (e.g., 0 or 1)\n",
    "# Use 0 for the default camera (HDMI input) or 1 for an external camera\n",
    "cap = cv2.VideoCapture(-1)\n",
    "\n",
    "# Check if the camera is opened correctly\n",
    "if not cap.isOpened():\n",
    "    raise IOError(\"Error: Cannot open the camera.\")\n",
    "from IPython.display import display, clear_output,Image\n",
    "\n",
    "try:\n",
    "    while True:\n",
    "        # Capture frame-by-frame\n",
    "        ret, frame = cap.read()\n",
    "\n",
    "        # Check if the frame is read correctly\n",
    "        if not ret:\n",
    "            break\n",
    "\n",
    "        # Display the frame in the Jupyter Notebook\n",
    "        clear_output(wait=True)\n",
    "        _, img = cv2.imencode('.jpeg', frame)\n",
    "        display(Image(data=img.tobytes()))\n",
    "\n",
    "except KeyboardInterrupt:\n",
    "    pass\n",
    "\n",
    "# Release the capture\n",
    "cap.release()\n",
    "cv2.destroyAllWindows()\n"
   ]
  },
  {
   "cell_type": "code",
   "execution_count": 11,
   "id": "911e1ddb",
   "metadata": {},
   "outputs": [
    {
     "name": "stdout",
     "output_type": "stream",
     "text": [
      "Overwriting liveFeedDatasaver.py\n"
     ]
    }
   ],
   "source": [
    "%%writefile liveFeedDatasaver.py\n",
    "import cv2\n",
    "import os\n",
    "cv2.setUseOpenVX(False)\n",
    "cv2.setUseOptimized(False)\n",
    "# Create a VideoCapture object with the correct camera index (e.g., 0 or 1)\n",
    "# Use 0 for the default camera (HDMI input) or 1 for an external camera\n",
    "cap = cv2.VideoCapture(-1)\n",
    "\n",
    "# Check if the camera is opened correctly\n",
    "if not cap.isOpened():\n",
    "    raise IOError(\"Error: Cannot open the camera.\")\n",
    "\n",
    "# Create a folder to save the images\n",
    "output_folder = 'captured_images'\n",
    "os.makedirs(output_folder, exist_ok=True)\n",
    "\n",
    "# Counter to keep track of captured images\n",
    "image_counter = 1\n",
    "max_images = 100\n",
    "\n",
    "try:\n",
    "    while image_counter <= max_images:\n",
    "        # Capture frame-by-frame\n",
    "        ret, frame = cap.read()\n",
    "\n",
    "        # Check if the frame is read correctly\n",
    "        if not ret:\n",
    "            break\n",
    "\n",
    "        # Save the frame as an image in the output folder\n",
    "        image_filename = os.path.join(output_folder, f'frame_{image_counter:03d}.jpg')\n",
    "        cv2.imwrite(image_filename, frame)\n",
    "\n",
    "        print(f\"Captured image {image_counter}/{max_images}\")\n",
    "\n",
    "        image_counter += 1\n",
    "\n",
    "except KeyboardInterrupt:\n",
    "    pass\n",
    "\n",
    "# Release the capture\n",
    "cap.release()\n",
    "cv2.destroyAllWindows()\n"
   ]
  },
  {
   "cell_type": "code",
   "execution_count": 13,
   "id": "cafd14ed",
   "metadata": {},
   "outputs": [
    {
     "name": "stdout",
     "output_type": "stream",
     "text": [
      "Overwriting facetrackerDatasaver.py\n"
     ]
    }
   ],
   "source": [
    "%%writefile facetrackerDatasaver.py\n",
    "import cv2\n",
    "import os\n",
    "\n",
    "# Create a VideoCapture object with the correct camera index (e.g., 0 or 1)\n",
    "# Use 0 for the default camera (HDMI input) or 1 for an external camera\n",
    "cap = cv2.VideoCapture(-1)\n",
    "\n",
    "# Check if the camera is opened correctly\n",
    "if not cap.isOpened():\n",
    "    raise IOError(\"Error: Cannot open the camera.\")\n",
    "\n",
    "# Create a folder to save the images\n",
    "output_folder = 'captured_images'\n",
    "os.makedirs(output_folder, exist_ok=True)\n",
    "\n",
    "# Load the pre-trained Haar Cascade classifier for face detection\n",
    "face_cascade = cv2.CascadeClassifier('haarcascade_frontalface_default.xml')\n",
    "\n",
    "# Counter to keep track of captured images\n",
    "image_counter = 1\n",
    "max_images = 100\n",
    "\n",
    "try:\n",
    "    while image_counter <= max_images:\n",
    "        # Capture frame-by-frame\n",
    "        ret, frame = cap.read()\n",
    "\n",
    "        # Check if the frame is read correctly\n",
    "        if not ret:\n",
    "            break\n",
    "\n",
    "        # Convert the frame to grayscale (Haar cascades work on grayscale images)\n",
    "        gray_frame = cv2.cvtColor(frame, cv2.COLOR_BGR2GRAY)\n",
    "\n",
    "        # Detect faces in the grayscale frame\n",
    "        faces = face_cascade.detectMultiScale(gray_frame, scaleFactor=1.1, minNeighbors=5)\n",
    "\n",
    "        # Draw rectangles around the detected faces\n",
    "        for (x, y, w, h) in faces:\n",
    "            cv2.rectangle(frame, (x, y), (x + w, y + h), (0, 255, 0), 2)\n",
    "\n",
    "        # Save the frame as an image in the output folder\n",
    "        image_filename = os.path.join(output_folder, f'frame_{image_counter:03d}.jpg')\n",
    "        cv2.imwrite(image_filename, frame)\n",
    "\n",
    "        print(f\"Captured image {image_counter}/{max_images}\")\n",
    "\n",
    "        image_counter += 1\n",
    "\n",
    "except KeyboardInterrupt:\n",
    "    pass\n",
    "\n",
    "# Release the capture\n",
    "cap.release()\n",
    "cv2.destroyAllWindows()\n"
   ]
  },
  {
   "cell_type": "code",
   "execution_count": 14,
   "id": "5305bbad",
   "metadata": {},
   "outputs": [],
   "source": [
    "cap.release()\n",
    "cv2.destroyAllWindows()"
   ]
  },
  {
   "cell_type": "code",
   "execution_count": null,
   "id": "20176c6d",
   "metadata": {},
   "outputs": [],
   "source": []
  }
 ],
 "metadata": {
  "kernelspec": {
   "display_name": "Python 3 (ipykernel)",
   "language": "python",
   "name": "python3"
  },
  "language_info": {
   "codemirror_mode": {
    "name": "ipython",
    "version": 3
   },
   "file_extension": ".py",
   "mimetype": "text/x-python",
   "name": "python",
   "nbconvert_exporter": "python",
   "pygments_lexer": "ipython3",
   "version": "3.10.4"
  }
 },
 "nbformat": 4,
 "nbformat_minor": 5
}
